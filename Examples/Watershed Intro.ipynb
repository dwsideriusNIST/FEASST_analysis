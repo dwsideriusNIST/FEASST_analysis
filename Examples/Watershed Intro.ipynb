{
 "cells": [
  {
   "cell_type": "code",
   "execution_count": 1,
   "metadata": {},
   "outputs": [],
   "source": [
    "import numpy as np\n",
    "import matplotlib.pyplot as plt\n",
    "from scipy import ndimage\n",
    "\n",
    "from skimage.morphology import watershed\n",
    "from skimage.feature import peak_local_max"
   ]
  },
  {
   "cell_type": "code",
   "execution_count": 3,
   "metadata": {},
   "outputs": [
    {
     "data": {
      "image/png": "[encoded data removed]",
      "text/plain": [
       "<Figure size 576x194.4 with 3 Axes>"
      ]
     },
     "metadata": {},
     "output_type": "display_data"
    }
   ],
   "source": [
    "# Generate an initial image with two overlapping circles\n",
    "x, y = np.indices((80, 80))\n",
    "x1, y1, x2, y2 = 28, 28, 44, 52\n",
    "r1, r2 = 16, 20\n",
    "mask_circle1 = (x - x1)**2 + (y - y1)**2 < r1**2\n",
    "mask_circle2 = (x - x2)**2 + (y - y2)**2 < r2**2\n",
    "image = np.logical_or(mask_circle1, mask_circle2)\n",
    "\n",
    "# Now we want to separate the two objects in image\n",
    "# Generate the markers as local maxima of the distance to the background\n",
    "distance = ndimage.distance_transform_edt(image)\n",
    "local_maxi = peak_local_max(distance, indices=False, footprint=np.ones((3, 3)),\n",
    "                            labels=image)\n",
    "markers = ndimage.label(local_maxi)[0]\n",
    "labels = watershed(-distance, markers, mask=image)\n",
    "\n",
    "fig, axes = plt.subplots(ncols=3, figsize=(8, 2.7))\n",
    "ax0, ax1, ax2 = axes\n",
    "\n",
    "ax0.imshow(image, cmap=plt.cm.gray, interpolation='nearest')\n",
    "ax0.set_title('Overlapping objects')\n",
    "ax1.imshow(-distance, cmap=plt.cm.jet, interpolation='nearest')\n",
    "ax1.set_title('Distances')\n",
    "#ax2.imshow(labels, cmap=plt.cm.spectral, interpolation='nearest')\n",
    "ax2.imshow(labels, interpolation='nearest')\n",
    "ax2.set_title('Separated objects')\n",
    "\n",
    "for ax in axes:\n",
    "    ax.axis('off')\n",
    "\n",
    "fig.subplots_adjust(hspace=0.01, wspace=0.01, top=1, bottom=0, left=0,\n",
    "                    right=1)\n",
    "plt.show()"
   ]
  },
  {
   "cell_type": "code",
   "execution_count": 5,
   "metadata": {},
   "outputs": [
    {
     "name": "stdout",
     "output_type": "stream",
     "text": [
      "[[0. 0. 0. ... 0. 0. 0.]\n",
      " [0. 0. 0. ... 0. 0. 0.]\n",
      " [0. 0. 0. ... 0. 0. 0.]\n",
      " ...\n",
      " [0. 0. 0. ... 0. 0. 0.]\n",
      " [0. 0. 0. ... 0. 0. 0.]\n",
      " [0. 0. 0. ... 0. 0. 0.]]\n",
      "[[False False False ... False False False]\n",
      " [False False False ... False False False]\n",
      " [False False False ... False False False]\n",
      " ...\n",
      " [False False False ... False False False]\n",
      " [False False False ... False False False]\n",
      " [False False False ... False False False]]\n"
     ]
    }
   ],
   "source": [
    "print(distance)\n",
    "print(local_maxi)"
   ]
  },
  {
   "cell_type": "code",
   "execution_count": 6,
   "metadata": {},
   "outputs": [],
   "source": [
    "# Data Abstraction [this is code-specific]\n",
    "src = '/mnt/WS_PN107151/dsideriu/Research/Monte_Carlo/my_FEASST/Ar-CO2_slit_pore/Full_Run_SKX'\n",
    "MC_output = 'colMat'\n",
    "\n",
    "with open(src+'/'+MC_output,mode='r') as f:\n",
    "    text_in = f.readlines()\n",
    "\n",
    "    \n",
    "for (lineID,line) in enumerate(text_in):\n",
    "    if (line.split()[1] == 'lnz'):\n",
    "        lnZ = float(line.split()[2])\n",
    "    elif (line.split()[1] == 'beta'):\n",
    "        beta = float(line.split()[2])\n",
    "        T = 1./beta\n",
    "    #print(line.strip('\\n'))\n",
    "    elif (line.split()[1] == 'macrostate(nmol)'): #macrostate data is after this\n",
    "        macro_data = text_in[(lineID+1):]\n",
    "\n",
    "N = np.array( [ int(x.split()[0]) for x in macro_data ] )\n",
    "lnPi = np.array( [ float(x.split()[1]) for x in macro_data ] )\n",
    "#energy = np.array( [ float(x.split()[2]) for x in macro_data ] )\n",
    "#energy = np.array( [ float(x.split()[9])/float(x.split()[8]) for x in macro_data ] )\n",
    "#energy2 = np.array( [ float(x.split()[10])/float(x.split()[8]) for x in macro_data ] )"
   ]
  },
  {
   "cell_type": "code",
   "execution_count": 9,
   "metadata": {},
   "outputs": [],
   "source": [
    "from scipy.signal import argrelextrema"
   ]
  },
  {
   "cell_type": "code",
   "execution_count": 12,
   "metadata": {},
   "outputs": [
    {
     "name": "stdout",
     "output_type": "stream",
     "text": [
      "(array([209]),)\n",
      "(array([], dtype=int64),)\n"
     ]
    }
   ],
   "source": [
    "# Argrelextrema\n",
    "\n",
    "print(argrelextrema( lnPi, np.greater ))\n",
    "print(argrelextrema( lnPi, np.less ))"
   ]
  },
  {
   "cell_type": "code",
   "execution_count": 25,
   "metadata": {},
   "outputs": [
    {
     "name": "stdout",
     "output_type": "stream",
     "text": [
      "209 -2.7843288380165196\n",
      "[]\n"
     ]
    }
   ],
   "source": [
    "# Watershed (?)\n",
    "\n",
    "max_logical = peak_local_max(lnPi)\n",
    "print(max_logical[0][0], lnPi[max_logical[0][0]])\n",
    "\n",
    "min_logical = peak_local_max(-lnPi)\n",
    "print(min_logical)"
   ]
  }
 ],
 "metadata": {
  "kernelspec": {
   "display_name": "Python 3",
   "language": "python",
   "name": "python3"
  },
  "language_info": {
   "codemirror_mode": {
    "name": "ipython",
    "version": 3
   },
   "file_extension": ".py",
   "mimetype": "text/x-python",
   "name": "python",
   "nbconvert_exporter": "python",
   "pygments_lexer": "ipython3",
   "version": "3.6.7"
  }
 },
 "nbformat": 4,
 "nbformat_minor": 2
}
