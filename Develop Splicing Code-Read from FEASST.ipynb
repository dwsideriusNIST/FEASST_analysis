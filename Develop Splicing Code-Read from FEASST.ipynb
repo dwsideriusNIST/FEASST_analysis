{
 "cells": [
  {
   "cell_type": "code",
   "execution_count": 1,
   "metadata": {},
   "outputs": [],
   "source": [
    "import numpy as np\n",
    "import copy\n",
    "import pandas as pd\n",
    "from skimage.feature import peak_local_max\n",
    "import os\n",
    "import copy\n",
    "\n",
    "%matplotlib inline\n",
    "import matplotlib.pyplot as plt"
   ]
  },
  {
   "cell_type": "code",
   "execution_count": 2,
   "metadata": {},
   "outputs": [
    {
     "name": "stdout",
     "output_type": "stream",
     "text": [
      "/home/local/NIST/dsideriu/Tutorials/pymdanal:/home/local/NIST/dsideriu/Tutorials/lnPi:/home/local/NIST/dsideriu/Research/Monte_Carlo/FEASST/build:\n"
     ]
    }
   ],
   "source": [
    "# This block is temporary until I restart the Notebook server\n",
    "print(os.environ['PYTHONPATH'])\n",
    "#os.environ['PYTHONPATH'] += ':'+\"/home/local/NIST/dsideriu/Research/Monte_Carlo/FEASST/build\"\n",
    "#print(os.environ['PYTHONPATH'])"
   ]
  },
  {
   "cell_type": "code",
   "execution_count": 3,
   "metadata": {},
   "outputs": [],
   "source": [
    "import feasst"
   ]
  },
  {
   "cell_type": "code",
   "execution_count": 4,
   "metadata": {},
   "outputs": [],
   "source": [
    "plt.rcParams.update({'font.size': 16})\n",
    "from matplotlib.ticker import FormatStrFormatter"
   ]
  },
  {
   "cell_type": "code",
   "execution_count": 5,
   "metadata": {},
   "outputs": [],
   "source": [
    "def read_colMat(file):\n",
    "    data_in = np.loadtxt(file, comments='#')\n",
    "    # This presumes colMat having a fixed column structure. MAY CHANGE IN FUTURE!!!!\n",
    "    N = np.array( [ int(x[0]) for x in data_in ] )\n",
    "    lnPi = np.array( [ x[1] for x in data_in ] )\n",
    "    energy = np.array( [ x[9]/x[8] for x in data_in] )\n",
    "    energy2 = np.array( [ x[10]/x[8] for x in data_in ] )\n",
    "    \n",
    "    for line in open(src+\"/\"+MC_output):\n",
    "        if 'beta' in line: beta = float(line.split()[-1])\n",
    "        if 'lnz' in line: lnZ = float(line.split()[-1])\n",
    "    \n",
    "    return N, lnPi, energy, energy2, beta, lnZ"
   ]
  },
  {
   "cell_type": "code",
   "execution_count": 6,
   "metadata": {},
   "outputs": [],
   "source": [
    "src = '/mnt/WS_PN107151/dsideriu/Research/Monte_Carlo/my_FEASST/MFI_Argon/MFI_Argon_WCA.test'\n",
    "MC_output = 'colMat_core0'\n",
    "N, lnPi, energy, energy2, beta, lnZ0 = read_colMat(src+'/'+MC_output)"
   ]
  },
  {
   "cell_type": "code",
   "execution_count": 8,
   "metadata": {},
   "outputs": [
    {
     "name": "stdout",
     "output_type": "stream",
     "text": [
      "/mnt/WS_PN107151/dsideriu/Research/Monte_Carlo/my_FEASST/MFI_Argon/MFI_Argon_WCA.test\n",
      "/mnt/WS_PN107151/dsideriu/Research/Monte_Carlo/my_FEASST/MFI_Argon/MFI_Argon_WCA.test/tmp/rst_core0\n"
     ]
    }
   ],
   "source": [
    "print(src)\n",
    "restart_file = src+'/tmp/rst_core0'\n",
    "print(restart_file)"
   ]
  },
  {
   "cell_type": "code",
   "execution_count": null,
   "metadata": {},
   "outputs": [],
   "source": [
    "mc = feasst.WLTMMC(restart_file)"
   ]
  },
  {
   "cell_type": "code",
   "execution_count": null,
   "metadata": {},
   "outputs": [],
   "source": []
  },
  {
   "cell_type": "code",
   "execution_count": null,
   "metadata": {},
   "outputs": [],
   "source": []
  },
  {
   "cell_type": "code",
   "execution_count": null,
   "metadata": {},
   "outputs": [],
   "source": []
  },
  {
   "cell_type": "code",
   "execution_count": null,
   "metadata": {},
   "outputs": [],
   "source": [
    "src = '/mnt/WS_PN107151/dsideriu/Research/Monte_Carlo/my_FEASST/MFI_Argon/MFI_Argon_WCA.test'\n",
    "MC_output = 'colMat'\n",
    "N, lnPi, energy, energy2, beta, lnZ0 = read_colMat(src+'/'+MC_output)\n",
    "energy2 = energy2 - 2.*energy[0]*energy + energy[0]**2\n",
    "energy = energy - energy[0]"
   ]
  },
  {
   "cell_type": "code",
   "execution_count": null,
   "metadata": {},
   "outputs": [],
   "source": [
    "def read_window_data(source,prefix):\n",
    "    input_files = [ x for x in os.listdir(source) if (prefix in x and \"rng\" not in x and \"bak\" not in x) ]\n",
    "    windows = len(input_files)\n",
    "\n",
    "    for i in range(windows):\n",
    "        file_in = source+ \"/\" + prefix+str(i)\n",
    "        N_w, lnPi_w, energy_w, energy2_w = read_colMat(file_in)\n",
    "        if i == 0:\n",
    "            for line in open(file_in):\n",
    "                if 'beta' in line: beta = float(line.split()[-1])\n",
    "                if 'lnz' in line: lnZ = float(line.split()[-1])\n",
    "            Nmin = 0\n",
    "            Nmax = N_w[-1]\n",
    "            lnPi_master = copy.copy(lnPi_w)\n",
    "            energy_master = copy.copy(energy_w)\n",
    "            energy2_master = copy.copy(energy2_w)\n",
    "        else:\n",
    "            reference = N_w[0]\n",
    "            lnPi_w = lnPi_w + (lnPi_master[reference]-lnPi_w[0])\n",
    "            lnPi_master = np.concatenate([lnPi_master,lnPi_w[1:]])\n",
    "            #Simple splicing of the energy terms\n",
    "            energy_master = np.concatenate([energy_master,energy_w[1:]])\n",
    "            energy2_master = np.concatenate([energy2_master,energy2_w[1:]])\n",
    "            Nmax = max(Nmax,N_w[-1])\n",
    "    N_master = np.array(range(Nmin,Nmax+1))\n",
    "\n",
    "    # Normalize\n",
    "    lnPi_master = lnPi_master - max(lnPi_master)\n",
    "    lnPi_master = lnPi_master - np.log(sum(np.exp(lnPi_master)))\n",
    "    # Adjust Energy so that E(Nmin) = 0\n",
    "    #energy2_master = energy2_master - 2.*energy_master[0]*energy_master + energy_master[0]**2\n",
    "    #energy_master = energy_master - energy_master[0]\n",
    "\n",
    "    return N_master, lnPi_master, energy_master, energy2_master"
   ]
  },
  {
   "cell_type": "code",
   "execution_count": null,
   "metadata": {},
   "outputs": [],
   "source": [
    "src = '/mnt/WS_PN107151/dsideriu/Research/Monte_Carlo/my_FEASST/MFI_Argon/MFI_Argon_WCA.test'\n",
    "MC_output = \"colMat_core\"\n",
    "N1, lnPi1, energy1, energy21, beta, lnZ0 = read_window_data(src,MC_output)\n",
    "energy21 = energy21 - 2.*energy1[0]*energy1 + energy1[0]**2\n",
    "energy1 = energy1 - energy1[0]"
   ]
  },
  {
   "cell_type": "code",
   "execution_count": null,
   "metadata": {},
   "outputs": [],
   "source": [
    "fig = plt.figure(figsize=(8,8))\n",
    "plt.plot(N,lnPi)\n",
    "plt.plot(N1, lnPi1)\n",
    "plt.show()\n",
    "\n",
    "fig = plt.figure(figsize=(8,8))\n",
    "plt.plot(N,energy)\n",
    "plt.plot(N1, energy1)\n",
    "plt.show()\n",
    "\n",
    "fig = plt.figure(figsize=(8,8))\n",
    "plt.plot(N,energy2)\n",
    "plt.plot(N1, energy21)\n",
    "plt.show()"
   ]
  }
 ],
 "metadata": {
  "kernelspec": {
   "display_name": "Python 3",
   "language": "python",
   "name": "python3"
  },
  "language_info": {
   "codemirror_mode": {
    "name": "ipython",
    "version": 3
   },
   "file_extension": ".py",
   "mimetype": "text/x-python",
   "name": "python",
   "nbconvert_exporter": "python",
   "pygments_lexer": "ipython3",
   "version": "3.6.7"
  }
 },
 "nbformat": 4,
 "nbformat_minor": 2
}
